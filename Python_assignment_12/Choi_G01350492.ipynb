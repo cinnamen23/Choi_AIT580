{
 "cells": [
  {
   "cell_type": "code",
   "execution_count": 60,
   "id": "2b8a5c53",
   "metadata": {},
   "outputs": [],
   "source": [
    "#Student Name\n",
    "#G Number\n",
    "\n",
    "from bs4 import BeautifulSoup\n",
    "import urllib\n",
    "import csv"
   ]
  },
  {
   "cell_type": "code",
   "execution_count": 61,
   "id": "09cbdda1",
   "metadata": {},
   "outputs": [
    {
     "name": "stdout",
     "output_type": "stream",
     "text": [
      "Learning Python Mark Lutz O'Reilly Media June 2013\n",
      "Web Scraping with Python Ryan Mitchell O'Reilly Media November 2017\n",
      "Python Coding for Kids Don Wilcher Maker Media, Inc September 2017\n",
      "Python Machine Learning By Example Yuxi Liu Packt Publishing May 2017\n",
      "Python Data Structures and Algorithms Benjamin Baka Packt Publishing May 2017\n",
      "Python in a Nutshell Alex Martelli, Anna Ravenscroft, Steve Holden O'Reilly Media April 2017\n",
      "Invent Your Own Computer Games with Python Al Sweigart No Starch Press December 2016\n",
      "Head First Python Paul Barry O'Reilly Media November 2016\n",
      "Integrating Python with Leading Computer Forensics Platforms Chet Hosmer Elsevier / Syngress September 2016\n",
      "Data Science Essentials in Python Dmitry Zinoviev Pragmatic Bookshelf August 2016\n"
     ]
    }
   ],
   "source": [
    "url=\"https://repo.vse.gmu.edu/ait/AIT580/580books.html\"\n",
    "\n",
    "request_url=urllib.request.urlopen(url)\n",
    "\n",
    "doc = BeautifulSoup(request_url.read(),\"html.parser\")\n",
    "\n",
    "rows =doc.find_all(\"li\")\n",
    "\n",
    "#print(doc.prettify())\n",
    "#rows =doc.find(\"ul\")\n",
    "\n",
    "\n",
    "file=open('booklist.csv','w')\n",
    "writer=csv.writer(file)\n",
    "writer.writerow(['booktitle','Author','Publisher','ReleaseDate'])\n",
    "\n",
    "\n",
    "\n",
    "for row in rows:\n",
    "    booktitle=row.find(\"booktitle\").text.strip()\n",
    "    Author=row.find(\"author\").text.strip()\n",
    "    Publisher=row.find(\"publisher\").text.strip()\n",
    "    ReleaseDate=row.find(\"release\").text.strip()\n",
    "\n",
    "    print(booktitle+' '+Author+' '+Publisher+' '+ReleaseDate)\n",
    "    writer.writerow([booktitle.encode('utf-8'),Author.encode('utf-8'),Publisher.encode('utf-8'),ReleaseDate.encode('utf-8')])\n",
    "\n",
    "file.close()"
   ]
  },
  {
   "cell_type": "code",
   "execution_count": 62,
   "id": "fb922e59",
   "metadata": {},
   "outputs": [
    {
     "name": "stdout",
     "output_type": "stream",
     "text": [
      "                                                         booktitle                                            Author               Publisher        ReleaseDate\n",
      "0                                               b'Learning Python'                                      b'Mark Lutz'       b\"O'Reilly Media\"       b'June 2013'\n",
      "1                                      b'Web Scraping with Python'                                  b'Ryan Mitchell'       b\"O'Reilly Media\"   b'November 2017'\n",
      "2                                        b'Python Coding for Kids'                                    b'Don Wilcher'     b'Maker Media, Inc'  b'September 2017'\n",
      "3                            b'Python Machine Learning By Example'                                       b'Yuxi Liu'     b'Packt Publishing'        b'May 2017'\n",
      "4                         b'Python Data Structures and Algorithms'                                  b'Benjamin Baka'     b'Packt Publishing'        b'May 2017'\n",
      "5                                          b'Python in a Nutshell'  b'Alex Martelli, Anna Ravenscroft, Steve Holden'       b\"O'Reilly Media\"      b'April 2017'\n",
      "6                    b'Invent Your Own Computer Games with Python'                                    b'Al Sweigart'      b'No Starch Press'   b'December 2016'\n",
      "7                                             b'Head First Python'                                     b'Paul Barry'       b\"O'Reilly Media\"   b'November 2016'\n",
      "8  b'Integrating Python with Leading Computer Forensics Platforms'                                    b'Chet Hosmer'  b'Elsevier / Syngress'  b'September 2016'\n",
      "9                             b'Data Science Essentials in Python'                                b'Dmitry Zinoviev'  b'Pragmatic Bookshelf'     b'August 2016'\n",
      "b\"O'Reilly Media\"         4\n",
      "b'Packt Publishing'       2\n",
      "b'Maker Media, Inc'       1\n",
      "b'No Starch Press'        1\n",
      "b'Elsevier / Syngress'    1\n",
      "b'Pragmatic Bookshelf'    1\n",
      "Name: Publisher, dtype: int64\n"
     ]
    },
    {
     "data": {
      "text/plain": [
       "<AxesSubplot:>"
      ]
     },
     "execution_count": 62,
     "metadata": {},
     "output_type": "execute_result"
    },
    {
     "data": {
      "image/png": "[encoded data removed]",
      "text/plain": [
       "<Figure size 432x288 with 1 Axes>"
      ]
     },
     "metadata": {
      "needs_background": "light"
     },
     "output_type": "display_data"
    }
   ],
   "source": [
    "import pandas as pd\n",
    "\n",
    "df=pd.read_csv('booklist.csv')\n",
    "print(df.to_string())\n",
    "df1 = df['Publisher'].value_counts()\n",
    "print(df1)\n",
    "\n",
    "df1.plot()\n",
    "\n",
    "\n",
    "\n"
   ]
  },
  {
   "cell_type": "code",
   "execution_count": 117,
   "id": "fde87a09",
   "metadata": {},
   "outputs": [
    {
     "name": "stdout",
     "output_type": "stream",
     "text": [
      "b'May 2017'          2\n",
      "b'June 2013'         1\n",
      "b'November 2017'     1\n",
      "b'September 2017'    1\n",
      "b'April 2017'        1\n",
      "b'December 2016'     1\n",
      "b'November 2016'     1\n",
      "b'September 2016'    1\n",
      "b'August 2016'       1\n",
      "Name: ReleaseDate, dtype: int64\n"
     ]
    },
    {
     "data": {
      "image/png": "[encoded data removed]",
      "text/plain": [
       "<Figure size 432x288 with 1 Axes>"
      ]
     },
     "metadata": {
      "needs_background": "light"
     },
     "output_type": "display_data"
    }
   ],
   "source": [
    "df2=df['ReleaseDate'].value_counts()\n",
    "\n",
    "print(df2)\n",
    "df3=df.ReleaseDate.str.split(' ')\n",
    "b=[i[1] for i in df3]\n",
    "b\n",
    "import numpy as np   \n",
    "(unique, counts) = np.unique(b, return_counts=True)\n",
    "{x:y for x,y in zip(unique, counts)}\n",
    "\n",
    "import matplotlib.pyplot as plt\n",
    "plt.hist(b)\n",
    "plt.show()"
   ]
  }
 ],
 "metadata": {
  "kernelspec": {
   "display_name": "Python 3 (ipykernel)",
   "language": "python",
   "name": "python3"
  },
  "language_info": {
   "codemirror_mode": {
    "name": "ipython",
    "version": 3
   },
   "file_extension": ".py",
   "mimetype": "text/x-python",
   "name": "python",
   "nbconvert_exporter": "python",
   "pygments_lexer": "ipython3",
   "version": "3.9.7"
  }
 },
 "nbformat": 4,
 "nbformat_minor": 5
}
