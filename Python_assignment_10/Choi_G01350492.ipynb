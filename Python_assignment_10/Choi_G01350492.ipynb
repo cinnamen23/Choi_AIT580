{
 "cells": [
  {
   "cell_type": "code",
   "execution_count": 2,
   "metadata": {},
   "outputs": [],
   "source": [
    "import pandas as pd\n",
    "\n",
    "data = pd.read_csv('../data/EmployeeAttrition.csv')\n"
   ]
  },
  {
   "cell_type": "code",
   "execution_count": 5,
   "metadata": {},
   "outputs": [
    {
     "name": "stdout",
     "output_type": "stream",
     "text": [
      "   Age Attrition     BusinessTravel  DailyRate              Department  \\\n",
      "0   41       Yes      Travel_Rarely       1102                   Sales   \n",
      "1   49        No  Travel_Frequently        279  Research & Development   \n",
      "2   37       Yes      Travel_Rarely       1373  Research & Development   \n",
      "3   33        No  Travel_Frequently       1392  Research & Development   \n",
      "4   27        No      Travel_Rarely        591  Research & Development   \n",
      "\n",
      "   DistanceFromHome  Education EducationField  EmployeeCount  EmployeeNumber  \\\n",
      "0                 1          2  Life Sciences              1               1   \n",
      "1                 8          1  Life Sciences              1               2   \n",
      "2                 2          2          Other              1               4   \n",
      "3                 3          4  Life Sciences              1               5   \n",
      "4                 2          1        Medical              1               7   \n",
      "\n",
      "   ...  RelationshipSatisfaction StandardHours  StockOptionLevel  \\\n",
      "0  ...                         1            80                 0   \n",
      "1  ...                         4            80                 1   \n",
      "2  ...                         2            80                 0   \n",
      "3  ...                         3            80                 0   \n",
      "4  ...                         4            80                 1   \n",
      "\n",
      "   TotalWorkingYears  TrainingTimesLastYear WorkLifeBalance  YearsAtCompany  \\\n",
      "0                  8                      0               1               6   \n",
      "1                 10                      3               3              10   \n",
      "2                  7                      3               3               0   \n",
      "3                  8                      3               3               8   \n",
      "4                  6                      3               3               2   \n",
      "\n",
      "  YearsInCurrentRole  YearsSinceLastPromotion  YearsWithCurrManager  \n",
      "0                  4                        0                     5  \n",
      "1                  7                        1                     7  \n",
      "2                  0                        0                     0  \n",
      "3                  7                        3                     0  \n",
      "4                  2                        2                     2  \n",
      "\n",
      "[5 rows x 35 columns]\n"
     ]
    }
   ],
   "source": [
    "print(data.head())"
   ]
  },
  {
   "cell_type": "code",
   "execution_count": 6,
   "metadata": {},
   "outputs": [
    {
     "name": "stdout",
     "output_type": "stream",
     "text": [
      "   Age Attrition     BusinessTravel  DailyRate              Department  \\\n",
      "0   41       Yes      Travel_Rarely       1102                   Sales   \n",
      "1   49        No  Travel_Frequently        279  Research & Development   \n",
      "2   37       Yes      Travel_Rarely       1373  Research & Development   \n",
      "3   33        No  Travel_Frequently       1392  Research & Development   \n",
      "4   27        No      Travel_Rarely        591  Research & Development   \n",
      "\n",
      "   DistanceFromHome  Education EducationField  EmployeeCount  EmployeeNumber  \\\n",
      "0                 1          2  Life Sciences              1               1   \n",
      "1                 8          1  Life Sciences              1               2   \n",
      "2                 2          2          Other              1               4   \n",
      "3                 3          4  Life Sciences              1               5   \n",
      "4                 2          1        Medical              1               7   \n",
      "\n",
      "   ...  RelationshipSatisfaction StandardHours  StockOptionLevel  \\\n",
      "0  ...                         1            80                 0   \n",
      "1  ...                         4            80                 1   \n",
      "2  ...                         2            80                 0   \n",
      "3  ...                         3            80                 0   \n",
      "4  ...                         4            80                 1   \n",
      "\n",
      "   TotalWorkingYears  TrainingTimesLastYear WorkLifeBalance  YearsAtCompany  \\\n",
      "0                  8                      0               1               6   \n",
      "1                 10                      3               3              10   \n",
      "2                  7                      3               3               0   \n",
      "3                  8                      3               3               8   \n",
      "4                  6                      3               3               2   \n",
      "\n",
      "  YearsInCurrentRole  YearsSinceLastPromotion  YearsWithCurrManager  \n",
      "0                  4                        0                     5  \n",
      "1                  7                        1                     7  \n",
      "2                  0                        0                     0  \n",
      "3                  7                        3                     0  \n",
      "4                  2                        2                     2  \n",
      "\n",
      "[5 rows x 35 columns]\n"
     ]
    }
   ],
   "source": [
    "#Check the head of the DataFrame.\n",
    "print(data.head())"
   ]
  },
  {
   "cell_type": "code",
   "execution_count": 80,
   "metadata": {},
   "outputs": [
    {
     "name": "stdout",
     "output_type": "stream",
     "text": [
      "Q1 :\n",
      "1470\n",
      "35\n",
      "Q2 :\n",
      "6502.931292517007\n",
      "Q3 :\n",
      "100\n",
      "Q4 :\n",
      "               Department                JobRole MaritalStatus OverTime\n",
      "6  Research & Development  Laboratory Technician       Married      Yes\n",
      "Q5 :\n",
      "190    259\n",
      "Name: EmployeeNumber, dtype: int64\n",
      "Q6 :\n",
      "     DailyRate\n",
      "Age           \n",
      "59       992.3\n",
      "60       833.2\n",
      "Q7 :\n",
      "6\n",
      "Q8 :\n",
      "['Sales Executive', 'Research Scientist', 'Laboratory Technician', 'Manufacturing Director', 'Healthcare Representative']\n",
      "Q9 :\n",
      "3\n",
      "Q10 :\n",
      "-0.011296116736573911\n"
     ]
    }
   ],
   "source": [
    "#Q1: Find the number of entries/rows and columns in the data.\n",
    "print('Q1 :')\n",
    "print(len(data))\n",
    "print(len(data.columns))\n",
    "\n",
    "#Q2: What is the average Monthly Income?\n",
    "import numpy as np\n",
    "print('Q2 :')\n",
    "print(np.mean(data[\"MonthlyIncome\"]))\n",
    "\n",
    "#Q3: What is the highest amount of HourlyRate ?\n",
    "print('Q3 :')\n",
    "print(np.max(data[\"HourlyRate\"]))\n",
    "\n",
    "#Q4: What is the Department, JobRole, MaritalStatus and OverTime of EmployeeNumber 10?\n",
    "print('Q4 :')\n",
    "print(data[(data.EmployeeNumber==10)].filter(items=['Department','JobRole','MaritalStatus','OverTime']))\n",
    "\n",
    "#Q5: What is the Employee ID of highest MonthlyIncome paid employee?\n",
    "print('Q5 :')\n",
    "print(data.iloc[[data['MonthlyIncome'].idxmax()]].EmployeeNumber)\n",
    "\n",
    "#Q6: What is the average(mean) DailyRate group by Age for all Employees whose age is greater than 58. (hint: use groupby function)\n",
    "print('Q6 :')\n",
    "print(data[(data.Age>58)].groupby('Age').agg({'DailyRate':'mean'}))\n",
    "\n",
    "#Q7: How many unique EducationField are there?\n",
    "print('Q7 :')\n",
    "print(len(data.EducationField.unique()))\n",
    "\n",
    "#Q8: What are the top 5 most common JobRole?\n",
    "print('Q8 :')\n",
    "print(data['JobRole'].value_counts().index.tolist()[:5])\n",
    "\n",
    "#Q9: How many JobRoles represented by less than 100 employees?\n",
    "print('Q9 :')\n",
    "print(len(data['JobRole'].value_counts()[data['JobRole'].value_counts()<100].index))\n",
    "\n",
    "#Q10: What is the correlation between Education and JobSatisfaction?\n",
    "print('Q10 :')\n",
    "print(np.corrcoef(data['Education'], data['JobSatisfaction'])[0,1])"
   ]
  },
  {
   "cell_type": "code",
   "execution_count": null,
   "metadata": {},
   "outputs": [],
   "source": []
  }
 ],
 "metadata": {
  "kernelspec": {
   "display_name": "Python 3 (ipykernel)",
   "language": "python",
   "name": "python3"
  },
  "language_info": {
   "codemirror_mode": {
    "name": "ipython",
    "version": 3
   },
   "file_extension": ".py",
   "mimetype": "text/x-python",
   "name": "python",
   "nbconvert_exporter": "python",
   "pygments_lexer": "ipython3",
   "version": "3.9.7"
  }
 },
 "nbformat": 4,
 "nbformat_minor": 2
}
